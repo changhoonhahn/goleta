{
 "cells": [
  {
   "cell_type": "code",
   "execution_count": 2,
   "id": "7e303c62",
   "metadata": {},
   "outputs": [],
   "source": [
    "import numpy as np\n",
    "import h5py\n",
    "import sys, os"
   ]
  },
  {
   "cell_type": "code",
   "execution_count": 7,
   "id": "a12179ee",
   "metadata": {},
   "outputs": [],
   "source": [
    "simba_params = np.loadtxt('CosmoAstroSeed_SIMBA.txt', skiprows=1, \n",
    "           dtype={'names': ('name', 'Om', 's8', 'Asn1', 'Aagn1', 'Asn2', 'Aagn2', 'seed'),\n",
    "                  'formats': ('S4', 'f', 'f', 'f', 'f', 'f', 'f', 'i')})"
   ]
  },
  {
   "cell_type": "code",
   "execution_count": 14,
   "id": "c8095c6c",
   "metadata": {},
   "outputs": [],
   "source": [
    "# set the threshold to remove spurious galaxies\n",
    "Nstars_thres = 20\n",
    "\n",
    "props_lhc = []\n",
    "for i_lhc in range(1000): \n",
    "    # get the name of the SUBFIND catalogues\n",
    "    f_subfind = '/home/jovyan/Data/FOF_Subfind/SIMBA/LH_%i/fof_subhalo_tab_033.hdf5' % i_lhc\n",
    "\n",
    "    # open the catalogue and read it\n",
    "    f = h5py.File(f_subfind, 'r')\n",
    "\n",
    "    Mg     = f['/Subhalo/SubhaloMassType'][:,0]*1e10 #Msun/h\n",
    "    Mstar  = f['/Subhalo/SubhaloMassType'][:,4]*1e10 #Msun/h\n",
    "    Mbh    = f['/Subhalo/SubhaloBHMass'][:]*1e10     #Msun/h\n",
    "    Mtot   = f['/Subhalo/SubhaloMass'][:]*1e10       #Msun/h\n",
    "\n",
    "    Vmax   = f['/Subhalo/SubhaloVmax'][:]\n",
    "    Vdisp  = f['/Subhalo/SubhaloVelDisp'][:]\n",
    "\n",
    "    Zg     = f['/Subhalo/SubhaloGasMetallicity'][:]\n",
    "    Zs     = f['/Subhalo/SubhaloStarMetallicity'][:]\n",
    "    SFR    = f['/Subhalo/SubhaloSFR'][:]\n",
    "    J      = f['/Subhalo/SubhaloSpin'][:]\n",
    "    Vel    = f['/Subhalo/SubhaloVel'][:]\n",
    "    J      = np.sqrt(J[:,0]**2 + J[:,1]**2 + J[:,2]**2)\n",
    "    Vel    = np.sqrt(Vel[:,0]**2 + Vel[:,1]**2 + Vel[:,2]**2)\n",
    "\n",
    "    Rstar  = f['/Subhalo/SubhaloHalfmassRadType'][:,4]/1e3 #Mpc/h\n",
    "    Rtot   = f['/Subhalo/SubhaloHalfmassRad'][:]/1e3       #Mpc/h\n",
    "    Rvmax  = f['/Subhalo/SubhaloVmaxRad'][:]/1e3           #Mpc/h\n",
    "\n",
    "    U      = f['/Subhalo/SubhaloStellarPhotometrics'][:,0]\n",
    "    B      = f['/Subhalo/SubhaloStellarPhotometrics'][:,1]\n",
    "    V      = f['/Subhalo/SubhaloStellarPhotometrics'][:,2]    \n",
    "    K      = f['/Subhalo/SubhaloStellarPhotometrics'][:,3]\n",
    "    g      = f['/Subhalo/SubhaloStellarPhotometrics'][:,4]\n",
    "    r      = f['/Subhalo/SubhaloStellarPhotometrics'][:,5]\n",
    "    i      = f['/Subhalo/SubhaloStellarPhotometrics'][:,6]\n",
    "    z      = f['/Subhalo/SubhaloStellarPhotometrics'][:,7]\n",
    "\n",
    "    \n",
    "    Nstars = f['/Subhalo/SubhaloLenType'][:,4]\n",
    "    f.close()\n",
    "\n",
    "    # only take galaxies with more than 20 stars\n",
    "    indexes = np.where(Nstars>Nstars_thres)[0]\n",
    "    Ngal    = len(indexes)\n",
    "        \n",
    "    # compile table of \n",
    "    # Om, s8, Asn1, Aagn1, Asn2, Aagn2, Mg, Mstar, Mbh, Mtot, Vmax, Vdisp, Zg, Zs, SFR, J, Vel, Rstar, Rtot, Rvmax,\n",
    "    # absmag U, B, V, K, g, r, i, z\n",
    "    _props = np.array([\n",
    "        np.repeat(simba_params['Om'][i_lhc], Ngal), \n",
    "        np.repeat(simba_params['s8'][i_lhc], Ngal), \n",
    "        np.repeat(simba_params['Asn1'][i_lhc], Ngal), \n",
    "        np.repeat(simba_params['Aagn1'][i_lhc], Ngal), \n",
    "        np.repeat(simba_params['Asn2'][i_lhc], Ngal), \n",
    "        np.repeat(simba_params['Aagn2'][i_lhc], Ngal),   \n",
    "        Mg[indexes], \n",
    "        Mstar[indexes],\n",
    "        Mbh[indexes], \n",
    "        Mtot[indexes], \n",
    "        Vmax[indexes], \n",
    "        Vdisp[indexes], \n",
    "        Zg[indexes],\n",
    "        Zs[indexes], \n",
    "        SFR[indexes], \n",
    "        J[indexes], \n",
    "        Vel[indexes], \n",
    "        Rstar[indexes], \n",
    "        Rtot[indexes],\n",
    "        Rvmax[indexes], \n",
    "        U[indexes], \n",
    "        B[indexes], \n",
    "        V[indexes], \n",
    "        K[indexes],         \n",
    "        g[indexes],         \n",
    "        r[indexes], \n",
    "        i[indexes], \n",
    "        z[indexes]])\n",
    "    props_lhc.append(_props)"
   ]
  },
  {
   "cell_type": "code",
   "execution_count": 24,
   "id": "433343ea",
   "metadata": {},
   "outputs": [],
   "source": [
    "props_lhc = np.concatenate(props_lhc, axis=1)"
   ]
  },
  {
   "cell_type": "code",
   "execution_count": 32,
   "id": "acd4b690",
   "metadata": {},
   "outputs": [],
   "source": [
    "f = h5py.File('simba.snap33.subfind.galaxies.LHC.hdf5', 'w')\n",
    "f.create_dataset('props', data=props_lhc)\n",
    "f.close()"
   ]
  },
  {
   "cell_type": "code",
   "execution_count": null,
   "id": "d6f77436",
   "metadata": {},
   "outputs": [],
   "source": []
  }
 ],
 "metadata": {
  "kernelspec": {
   "display_name": "Python 3",
   "language": "python",
   "name": "python3"
  },
  "language_info": {
   "codemirror_mode": {
    "name": "ipython",
    "version": 3
   },
   "file_extension": ".py",
   "mimetype": "text/x-python",
   "name": "python",
   "nbconvert_exporter": "python",
   "pygments_lexer": "ipython3",
   "version": "3.7.3"
  }
 },
 "nbformat": 4,
 "nbformat_minor": 5
}
