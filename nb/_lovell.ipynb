{
 "cells": [
  {
   "cell_type": "markdown",
   "id": "d76f2512",
   "metadata": {},
   "source": [
    "# match Chris's catalogs to CAMELS"
   ]
  },
  {
   "cell_type": "code",
   "execution_count": 1,
   "id": "a2cbd0be",
   "metadata": {},
   "outputs": [],
   "source": [
    "import os\n",
    "import h5py \n",
    "import numpy as np"
   ]
  },
  {
   "cell_type": "code",
   "execution_count": 2,
   "id": "8cea2bed",
   "metadata": {},
   "outputs": [],
   "source": [
    "_dir = '/tigress/chhahn/goleta/'\n",
    "lovell = h5py.File(os.path.join(_dir, 'tng_lovell.hdf5'), 'r')"
   ]
  },
  {
   "cell_type": "code",
   "execution_count": 3,
   "id": "703decfa",
   "metadata": {},
   "outputs": [],
   "source": [
    "tng = h5py.File(os.path.join(_dir, 'tng.snap33.subfind.galaxies.LHC.hdf5'), 'r')"
   ]
  },
  {
   "cell_type": "code",
   "execution_count": 4,
   "id": "2ecd24b9",
   "metadata": {},
   "outputs": [],
   "source": [
    "photo = [] \n",
    "for i_lhc in range(1000): \n",
    "    isubs = tng['props'][-1,:][tng['props'][-2,:].astype(int) == i_lhc].astype(int)\n",
    "    \n",
    "    im = np.in1d(lovell['%i/SubhaloIndex' % i_lhc][...], isubs)\n",
    "    assert np.sum(isubs-lovell['%i/SubhaloIndex' % i_lhc][...][im]) == 0\n",
    "    \n",
    "    _photo = np.zeros((np.sum(tng['props'][-2,:].astype(int) == i_lhc), 5))\n",
    "    for i_b, band in enumerate(['u', 'g', 'r', 'i', 'z']): \n",
    "        # convert Lnu to abs mag units\n",
    "        Lnu = lovell['%i/attenuated/SLOAN/SDSS.%s' % (i_lhc, band)][...][im]        \n",
    "        geo = 4 * np.pi * (10 * 3.08567758128e18) ** 2\n",
    "\n",
    "        _photo[:,i_b] = -2.5 * np.log10(Lnu / geo) - 48.6\n",
    "    photo.append(_photo)"
   ]
  },
  {
   "cell_type": "code",
   "execution_count": 5,
   "id": "05cc5a86",
   "metadata": {},
   "outputs": [],
   "source": [
    "photo = np.concatenate(photo, axis=0)"
   ]
  },
  {
   "cell_type": "code",
   "execution_count": 6,
   "id": "9aaf215d",
   "metadata": {},
   "outputs": [
    {
     "data": {
      "text/plain": [
       "array([[-24.05015182, -24.37333679, -24.61043739],\n",
       "       [-21.64406013, -21.87215042, -22.04977226],\n",
       "       [-20.69135094, -21.04071236, -21.28896141],\n",
       "       ...,\n",
       "       [-16.58961487, -16.86730766, -17.0278244 ],\n",
       "       [-15.97955227, -16.27163506, -16.43307686],\n",
       "       [-15.98023033, -16.28874588, -16.46620369]])"
      ]
     },
     "execution_count": 6,
     "metadata": {},
     "output_type": "execute_result"
    }
   ],
   "source": [
    "tng['props'][-5:-2].T"
   ]
  },
  {
   "cell_type": "code",
   "execution_count": 7,
   "id": "fdcf2a42",
   "metadata": {},
   "outputs": [
    {
     "data": {
      "text/plain": [
       "array([[-22.91294886, -23.47860227, -23.65429341],\n",
       "       [-21.01932214, -21.57093406, -21.3778677 ],\n",
       "       [-19.6086894 , -20.11191313, -20.34976113],\n",
       "       ...,\n",
       "       [-15.49387968, -15.8711375 , -16.07878626],\n",
       "       [-15.60957446, -15.95460583, -16.15745627],\n",
       "       [-15.72402075, -16.01658103, -16.20353453]])"
      ]
     },
     "execution_count": 7,
     "metadata": {},
     "output_type": "execute_result"
    }
   ],
   "source": [
    "photo[:,1:4]"
   ]
  },
  {
   "cell_type": "code",
   "execution_count": 8,
   "id": "ba483a3d",
   "metadata": {},
   "outputs": [],
   "source": [
    "np.savetxt(os.path.join(_dir, 'tng_lovell.matched.sdss_ugriz.dat'), photo, header='SDSS u, g, r, i, z abs. mag.')"
   ]
  }
 ],
 "metadata": {
  "kernelspec": {
   "display_name": "uhod",
   "language": "python",
   "name": "uhod"
  },
  "language_info": {
   "codemirror_mode": {
    "name": "ipython",
    "version": 3
   },
   "file_extension": ".py",
   "mimetype": "text/x-python",
   "name": "python",
   "nbconvert_exporter": "python",
   "pygments_lexer": "ipython3",
   "version": "3.7.11"
  }
 },
 "nbformat": 4,
 "nbformat_minor": 5
}
