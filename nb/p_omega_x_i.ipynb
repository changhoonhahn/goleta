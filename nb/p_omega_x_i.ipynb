{
 "cells": [
  {
   "cell_type": "markdown",
   "id": "fe8ded92",
   "metadata": {},
   "source": [
    "# validate $p(\\Omega\\,|\\,X_i)$ "
   ]
  },
  {
   "cell_type": "code",
   "execution_count": 1,
   "id": "fce1c804",
   "metadata": {},
   "outputs": [],
   "source": [
    "import os\n",
    "import numpy as np\n",
    "from tqdm.notebook import tqdm, trange"
   ]
  },
  {
   "cell_type": "code",
   "execution_count": 2,
   "id": "0f4aa1bf",
   "metadata": {},
   "outputs": [],
   "source": [
    "import torch\n",
    "from goleta import data as D\n",
    "from goleta import util as U"
   ]
  },
  {
   "cell_type": "code",
   "execution_count": 3,
   "id": "d4743dc4",
   "metadata": {},
   "outputs": [],
   "source": [
    "import corner as DFM\n",
    "# --- plotting ---\n",
    "import matplotlib as mpl\n",
    "import matplotlib.pyplot as plt\n",
    "mpl.rcParams['text.usetex'] = True\n",
    "mpl.rcParams['font.family'] = 'serif'\n",
    "mpl.rcParams['axes.linewidth'] = 1.5\n",
    "mpl.rcParams['axes.xmargin'] = 1\n",
    "mpl.rcParams['xtick.labelsize'] = 'x-large'\n",
    "mpl.rcParams['xtick.major.size'] = 5\n",
    "mpl.rcParams['xtick.major.width'] = 1.5\n",
    "mpl.rcParams['ytick.labelsize'] = 'x-large'\n",
    "mpl.rcParams['ytick.major.size'] = 5\n",
    "mpl.rcParams['ytick.major.width'] = 1.5\n",
    "mpl.rcParams['legend.frameon'] = False"
   ]
  },
  {
   "cell_type": "code",
   "execution_count": 4,
   "id": "7d37e43e",
   "metadata": {},
   "outputs": [],
   "source": [
    "if torch.cuda.is_available(): device = 'cuda'\n",
    "else: device = 'cpu'"
   ]
  },
  {
   "cell_type": "code",
   "execution_count": 5,
   "id": "e47e08c4",
   "metadata": {},
   "outputs": [
    {
     "name": "stdout",
     "output_type": "stream",
     "text": [
      "33 models trained\n",
      "[30, 16, 2, 31, 33]\n"
     ]
    }
   ],
   "source": [
    "qphis = U.read_best_ndes('_qphi.omega_x', device=device)"
   ]
  },
  {
   "cell_type": "code",
   "execution_count": 6,
   "id": "f6ca7005",
   "metadata": {},
   "outputs": [],
   "source": [
    "y_test, x_test = D.get_data('test', 'omega', 'xobs', sim='tng', downsample=True)"
   ]
  },
  {
   "cell_type": "code",
   "execution_count": 7,
   "id": "92c31881",
   "metadata": {},
   "outputs": [
    {
     "data": {
      "application/vnd.jupyter.widget-view+json": {
       "model_id": "b6f2ef3dc639448ca80277bce0c97742",
       "version_major": 2,
       "version_minor": 0
      },
      "text/plain": [
       "  0%|          | 0/500 [00:00<?, ?it/s]"
      ]
     },
     "metadata": {},
     "output_type": "display_data"
    }
   ],
   "source": [
    "n_sample = 10000\n",
    "\n",
    "ranks, y_nde = [], []\n",
    "for i in trange(500):#y_test.shape[0]): \n",
    "    y_samp = []\n",
    "    for qphi in qphis: \n",
    "        _samp = qphi.sample((int(n_sample/len(qphis)),),\n",
    "                           x=torch.tensor(x_test[i], dtype=torch.float32).to(device), \n",
    "                           show_progress_bars=False)\n",
    "\n",
    "        y_samp.append(_samp.detach().cpu().numpy())\n",
    "    y_nde.append(np.concatenate(np.array(y_samp), axis=0))        \n",
    "\n",
    "    _ranks = []\n",
    "    for i_dim in range(y_nde[-1].shape[1]): \n",
    "        _ranks.append(np.mean(y_nde[-1][:,i_dim].flatten() < y_test[i, i_dim]))\n",
    "    ranks.append(_ranks)\n",
    "\n",
    "ranks = np.array(ranks)\n",
    "y_nde = np.array(y_nde)"
   ]
  },
  {
   "cell_type": "code",
   "execution_count": 8,
   "id": "f71e7e83",
   "metadata": {},
   "outputs": [
    {
     "data": {
      "image/png": "[encoded data removed]",
      "text/plain": [
       "<Figure size 1080x432 with 6 Axes>"
      ]
     },
     "metadata": {
      "needs_background": "light"
     },
     "output_type": "display_data"
    }
   ],
   "source": [
    "lbls = [r'$\\Omega_m$', r'$\\sigma_8$', \n",
    "        r'$\\log A_{\\rm SN1}$', r'$\\log A_{\\rm AGN1}$', \n",
    "        r'$\\log A_{\\rm SN2}$', r'$\\log A_{\\rm AGN2}$']\n",
    "\n",
    "fig = plt.figure(figsize=(15, 6))\n",
    "for i in range(y_test.shape[1]): \n",
    "    sub = fig.add_subplot(2,3,i+1)\n",
    "    _ = sub.hist(ranks[:,i], range=(0., 1), bins=10, histtype='step', density=True, linewidth=2, color='C0') \n",
    "    sub.plot([0., 1.], [1., 1.], c='k', ls='--')\n",
    "    \n",
    "    sub.text(0.05, 0.95, lbls[i], fontsize=20, transform=sub.transAxes, ha='left', va='top')\n",
    "    \n",
    "    if i > 2: sub.set_xlabel('rank statistics', fontsize=20)\n",
    "    else: sub.set_xticklabels([])\n",
    "    sub.set_xlim(0., 1.)\n",
    "    sub.set_ylim(0., 3.)\n",
    "    sub.set_yticks([])\n",
    "fig.subplots_adjust(wspace=0.1)"
   ]
  },
  {
   "cell_type": "markdown",
   "id": "35bf3d82",
   "metadata": {},
   "source": [
    "## `tarp` validation"
   ]
  },
  {
   "cell_type": "code",
   "execution_count": 9,
   "id": "20de1387",
   "metadata": {},
   "outputs": [],
   "source": [
    "from tarp import get_drp_coverage"
   ]
  },
  {
   "cell_type": "code",
   "execution_count": 24,
   "id": "74a02c26",
   "metadata": {},
   "outputs": [
    {
     "data": {
      "image/png": "[encoded data removed]",
      "text/plain": [
       "<Figure size 432x432 with 1 Axes>"
      ]
     },
     "metadata": {
      "needs_background": "light"
     },
     "output_type": "display_data"
    }
   ],
   "source": [
    "alpha, ecp = get_drp_coverage(np.swapaxes(y_nde, 0, 1), y_test[:500], references=\"random\", metric=\"euclidean\")\n",
    "\n",
    "fig, ax = plt.subplots(1, 1, figsize=(6,6))\n",
    "ax.plot([0, 1], [0, 1], ls=\"--\", color=\"k\")\n",
    "ax.plot(alpha, ecp, label=\"DRP\")\n",
    "ax.legend(fontsize=20)\n",
    "ax.set_ylabel(\"Expected Coverage\", fontsize=20)\n",
    "ax.set_ylim(0., 1.)\n",
    "ax.set_xlabel(\"Credibility Level\", fontsize=20)\n",
    "ax.set_xlim(0., 1.)\n",
    "plt.show()"
   ]
  },
  {
   "cell_type": "code",
   "execution_count": null,
   "id": "e95480cf",
   "metadata": {},
   "outputs": [],
   "source": []
  }
 ],
 "metadata": {
  "kernelspec": {
   "display_name": "sbi",
   "language": "python",
   "name": "sbi"
  },
  "language_info": {
   "codemirror_mode": {
    "name": "ipython",
    "version": 3
   },
   "file_extension": ".py",
   "mimetype": "text/x-python",
   "name": "python",
   "nbconvert_exporter": "python",
   "pygments_lexer": "ipython3",
   "version": "3.7.10"
  }
 },
 "nbformat": 4,
 "nbformat_minor": 5
}
